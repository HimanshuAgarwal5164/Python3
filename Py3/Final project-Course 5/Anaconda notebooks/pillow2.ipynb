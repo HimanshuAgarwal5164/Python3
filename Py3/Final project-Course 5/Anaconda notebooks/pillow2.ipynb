{
 "cells": [
  {
   "cell_type": "code",
   "execution_count": 16,
   "metadata": {},
   "outputs": [
    {
     "name": "stdout",
     "output_type": "stream",
     "text": [
      "<PIL.JpegImagePlugin.JpegImageFile image mode=RGB size=896x896 at 0x1C51F81B808>\n",
      "Mode:\t RGB\n",
      "Format:\t JPEG\n",
      "Size:\t (896, 896)\n"
     ]
    }
   ],
   "source": [
    "import PIL\n",
    "from PIL import Image\n",
    "\n",
    "img = Image.open(r\"C:\\Users\\Himanshu Agarwal\\Pictures\\Saved Pictures\\Me.jpg\")\n",
    "print(img)\n",
    "print(\"Mode:\\t\",img.mode)\n",
    "print(\"Format:\\t\",img.format)\n",
    "print(\"Size:\\t\",img.size)\n",
    "img.show()"
   ]
  },
  {
   "cell_type": "code",
   "execution_count": 17,
   "metadata": {},
   "outputs": [],
   "source": [
    "r_img = img.rotate(45)\n",
    "r_img.show()"
   ]
  },
  {
   "cell_type": "code",
   "execution_count": 18,
   "metadata": {},
   "outputs": [],
   "source": [
    "rs_image = img.resize((500,500))\n",
    "rs_image.show()"
   ]
  },
  {
   "cell_type": "code",
   "execution_count": 19,
   "metadata": {},
   "outputs": [],
   "source": [
    "r_img.save(\"Me_new.jpg\")"
   ]
  },
  {
   "cell_type": "code",
   "execution_count": 20,
   "metadata": {},
   "outputs": [],
   "source": [
    "crop_img = img.crop((100,100,500,500))\n",
    "crop_img.show()"
   ]
  },
  {
   "cell_type": "code",
   "execution_count": 22,
   "metadata": {},
   "outputs": [],
   "source": [
    "img2 = Image.open(r\"C:\\Users\\Himanshu Agarwal\\Pictures\\Saved Pictures\\Me3.jpg\")\n",
    "img2 = img2.resize((100,100))\n",
    "img.paste(img2,(50,10))\n",
    "img.show()"
   ]
  },
  {
   "cell_type": "code",
   "execution_count": 25,
   "metadata": {},
   "outputs": [],
   "source": [
    "t_img = img.transpose(Image.FLIP_LEFT_RIGHT)\n",
    "t_img.show()"
   ]
  },
  {
   "cell_type": "code",
   "execution_count": null,
   "metadata": {},
   "outputs": [],
   "source": []
  }
 ],
 "metadata": {
  "kernelspec": {
   "display_name": "Python 3",
   "language": "python",
   "name": "python3"
  },
  "language_info": {
   "codemirror_mode": {
    "name": "ipython",
    "version": 3
   },
   "file_extension": ".py",
   "mimetype": "text/x-python",
   "name": "python",
   "nbconvert_exporter": "python",
   "pygments_lexer": "ipython3",
   "version": "3.7.6"
  }
 },
 "nbformat": 4,
 "nbformat_minor": 4
}
